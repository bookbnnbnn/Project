{
 "cells": [
  {
   "cell_type": "markdown",
   "metadata": {},
   "source": [
    "## RNN(IMDB)\n",
    "* MaxLen: 176(取x_train和x_test的中位數)\n",
    "* Words: 128000, Embeddding: 64\n",
    "* Batch_size: 128, Epochs: 16(但使用Earlystopping可能會提早結束)\n",
    "* Optimizer: Nadam + SGD   \n",
    "(因為Nadam收斂速度較快但不一定會收斂，所以嘗試再用SGD逼近，但似乎沒什麼作用，也有可能Nadam做完已經離最佳解太遠了)\n",
    "* Loss: binary crossentropy\n",
    "* RNN: 雙向LSTM(128) -> 不只考慮了上下文中「上文」，也考慮「下文」，比較不會錯過了一些重要的信息。  \n",
    "(加入doupout和regularizer試圖解決overfitting效果並不顯著)"
   ]
  },
  {
   "cell_type": "code",
   "execution_count": 1,
   "metadata": {},
   "outputs": [],
   "source": [
    "%matplotlib inline\n",
    "import numpy as np  \n",
    "import pandas as pd\n",
    "import matplotlib.pyplot as plt"
   ]
  },
  {
   "cell_type": "markdown",
   "metadata": {},
   "source": [
    "### 1. 讀入tensorflow套件"
   ]
  },
  {
   "cell_type": "code",
   "execution_count": 2,
   "metadata": {},
   "outputs": [],
   "source": [
    "from tensorflow.keras.preprocessing import sequence\n",
    "from tensorflow.keras.models import Sequential\n",
    "from tensorflow.keras.layers import LSTM, Dense, Embedding, GRU, Bidirectional \n",
    "from tensorflow.keras.callbacks import EarlyStopping\n",
    "from tensorflow.keras.optimizers import SGD\n",
    "from tensorflow.keras.regularizers import l2\n",
    "from tensorflow.keras.datasets import imdb"
   ]
  },
  {
   "cell_type": "markdown",
   "metadata": {},
   "source": [
    "### 2. 讀入數據"
   ]
  },
  {
   "cell_type": "code",
   "execution_count": 3,
   "metadata": {},
   "outputs": [],
   "source": [
    "(x_train, y_train), (x_test, y_test) = imdb.load_data(num_words=128000)"
   ]
  },
  {
   "cell_type": "markdown",
   "metadata": {},
   "source": [
    "### 3. 資料處理"
   ]
  },
  {
   "cell_type": "code",
   "execution_count": 4,
   "metadata": {},
   "outputs": [
    {
     "data": {
      "text/plain": [
       "(25000, 25000)"
      ]
     },
     "execution_count": 4,
     "metadata": {},
     "output_type": "execute_result"
    }
   ],
   "source": [
    "len(x_train), len(x_test)"
   ]
  },
  {
   "cell_type": "code",
   "execution_count": 5,
   "metadata": {},
   "outputs": [
    {
     "data": {
      "text/plain": [
       "(178.0, 174.0)"
      ]
     },
     "execution_count": 5,
     "metadata": {},
     "output_type": "execute_result"
    }
   ],
   "source": [
    "egg1 = np.array([ len(x_train[i]) for i in range(25000) ])\n",
    "egg2 = np.array([ len(x_test[i]) for i in range(25000) ])\n",
    "np.median(egg1), np.median(egg2)"
   ]
  },
  {
   "cell_type": "code",
   "execution_count": 6,
   "metadata": {},
   "outputs": [],
   "source": [
    "#使用資料的中位數當作序列的長度\n",
    "x_train = sequence.pad_sequences(x_train, maxlen=176)\n",
    "x_test = sequence.pad_sequences(x_test, maxlen=176)"
   ]
  },
  {
   "cell_type": "markdown",
   "metadata": {},
   "source": [
    "### 4. 打造函數學習機 (使用雙向LSTM)"
   ]
  },
  {
   "cell_type": "code",
   "execution_count": 7,
   "metadata": {},
   "outputs": [],
   "source": [
    "model1 = Sequential()\n",
    "model1.add(Embedding(input_dim = 128000, output_dim = 64))\n",
    "model1.add(Bidirectional(LSTM(32, dropout = 0.2, recurrent_dropout = 0.2, kernel_regularizer=l2(0.001), return_sequences = True)))\n",
    "model1.add(Dense(1, activation = 'sigmoid'))\n",
    "model1.compile(optimizer = 'Nadam', loss = 'binary_crossentropy', metrics = [\"acc\"] )"
   ]
  },
  {
   "cell_type": "code",
   "execution_count": 8,
   "metadata": {},
   "outputs": [
    {
     "name": "stdout",
     "output_type": "stream",
     "text": [
      "Model: \"sequential\"\n",
      "_________________________________________________________________\n",
      "Layer (type)                 Output Shape              Param #   \n",
      "=================================================================\n",
      "embedding (Embedding)        (None, None, 64)          8192000   \n",
      "_________________________________________________________________\n",
      "bidirectional (Bidirectional (None, None, 64)          24832     \n",
      "_________________________________________________________________\n",
      "dense (Dense)                (None, None, 1)           65        \n",
      "=================================================================\n",
      "Total params: 8,216,897\n",
      "Trainable params: 8,216,897\n",
      "Non-trainable params: 0\n",
      "_________________________________________________________________\n"
     ]
    }
   ],
   "source": [
    "model1.summary()"
   ]
  },
  {
   "cell_type": "markdown",
   "metadata": {},
   "source": [
    "### 5. 訓練"
   ]
  },
  {
   "cell_type": "code",
   "execution_count": 9,
   "metadata": {},
   "outputs": [
    {
     "name": "stdout",
     "output_type": "stream",
     "text": [
      "Train on 25000 samples, validate on 25000 samples\n",
      "Epoch 1/16\n",
      "25000/25000 [==============================] - 189s 8ms/sample - loss: 0.5649 - acc: 0.7539 - val_loss: 0.4303 - val_acc: 0.8286\n",
      "Epoch 2/16\n",
      "25000/25000 [==============================] - 189s 8ms/sample - loss: 0.3641 - acc: 0.8642 - val_loss: 0.3920 - val_acc: 0.8511\n",
      "Epoch 3/16\n",
      "25000/25000 [==============================] - 186s 7ms/sample - loss: 0.3223 - acc: 0.8793 - val_loss: 0.3790 - val_acc: 0.8556\n",
      "Epoch 4/16\n",
      "25000/25000 [==============================] - 186s 7ms/sample - loss: 0.2413 - acc: 0.9207 - val_loss: 0.3944 - val_acc: 0.8564\n",
      "Epoch 5/16\n",
      "25000/25000 [==============================] - 187s 7ms/sample - loss: 0.1976 - acc: 0.9373 - val_loss: 0.4209 - val_acc: 0.8425\n",
      "Epoch 6/16\n",
      "25000/25000 [==============================] - 189s 8ms/sample - loss: 0.1649 - acc: 0.9510 - val_loss: 0.4164 - val_acc: 0.8522\n",
      "Epoch 7/16\n",
      "25000/25000 [==============================] - 187s 7ms/sample - loss: 0.1380 - acc: 0.9607 - val_loss: 0.4318 - val_acc: 0.8540\n",
      "Epoch 8/16\n",
      "25000/25000 [==============================] - 187s 7ms/sample - loss: 0.1116 - acc: 0.9703 - val_loss: 0.4670 - val_acc: 0.8514\n",
      "Epoch 9/16\n",
      "25000/25000 [==============================] - 188s 8ms/sample - loss: 0.0906 - acc: 0.9767 - val_loss: 0.5092 - val_acc: 0.8404\n"
     ]
    }
   ],
   "source": [
    "# 設立一個提早停止訓練的機制避免overfitting(以val_acc為基準，如果沒有增加超過0.0005則視為沒有進步，超過三次的話就結束訓練 )  \n",
    "early_stopping = EarlyStopping(monitor='val_acc', min_delta=0.0005, mode='max', patience = 5)\n",
    "history = model1.fit(x_train, y_train, batch_size=100 , epochs=16, callbacks = [early_stopping], validation_data=(x_test, y_test), shuffle = True)"
   ]
  },
  {
   "cell_type": "code",
   "execution_count": 10,
   "metadata": {},
   "outputs": [
    {
     "name": "stdout",
     "output_type": "stream",
     "text": [
      "Train on 25000 samples, validate on 25000 samples\n",
      "Epoch 1/16\n",
      "25000/25000 [==============================] - 185s 7ms/sample - loss: 0.0737 - acc: 0.9831 - val_loss: 0.4950 - val_acc: 0.8474\n",
      "Epoch 2/16\n",
      "25000/25000 [==============================] - 179s 7ms/sample - loss: 0.0738 - acc: 0.9825 - val_loss: 0.5139 - val_acc: 0.8520\n",
      "Epoch 3/16\n",
      "25000/25000 [==============================] - 179s 7ms/sample - loss: 0.0712 - acc: 0.9838 - val_loss: 0.5130 - val_acc: 0.8523\n",
      "Epoch 4/16\n",
      "25000/25000 [==============================] - 178s 7ms/sample - loss: 0.0688 - acc: 0.9846 - val_loss: 0.5206 - val_acc: 0.8452\n",
      "Epoch 5/16\n",
      "25000/25000 [==============================] - 180s 7ms/sample - loss: 0.0698 - acc: 0.9844 - val_loss: 0.5165 - val_acc: 0.8482\n",
      "Epoch 6/16\n",
      "25000/25000 [==============================] - 181s 7ms/sample - loss: 0.0690 - acc: 0.9845 - val_loss: 0.5261 - val_acc: 0.8524\n",
      "Epoch 7/16\n",
      "25000/25000 [==============================] - 181s 7ms/sample - loss: 0.0690 - acc: 0.9841 - val_loss: 0.5208 - val_acc: 0.8462\n"
     ]
    }
   ],
   "source": [
    "model1.compile(optimizer = SGD(lr = 0.005), loss = 'binary_crossentropy', metrics = [\"acc\"] )\n",
    "history1 = model1.fit(x_train, y_train, batch_size=100, epochs=16, callbacks = [early_stopping], validation_data=(x_test, y_test))"
   ]
  },
  {
   "cell_type": "markdown",
   "metadata": {},
   "source": [
    "### 6.訓練結果"
   ]
  },
  {
   "cell_type": "code",
   "execution_count": 11,
   "metadata": {},
   "outputs": [
    {
     "name": "stdout",
     "output_type": "stream",
     "text": [
      "25000/25000 [==============================] - 54s 2ms/sample - loss: 0.5208 - acc: 0.8462\n",
      "正確率： 0.8462299\n"
     ]
    }
   ],
   "source": [
    "loss, acc = model1.evaluate(x_test, y_test)\n",
    "print(\"正確率：\", acc)"
   ]
  },
  {
   "cell_type": "code",
   "execution_count": 13,
   "metadata": {},
   "outputs": [
    {
     "data": {
      "text/plain": [
       "<matplotlib.legend.Legend at 0x1bfbe9b3f48>"
      ]
     },
     "execution_count": 13,
     "metadata": {},
     "output_type": "execute_result"
    },
    {
     "data": {
      "image/png": "[encoded data removed]",
      "text/plain": [
       "<Figure size 432x288 with 1 Axes>"
      ]
     },
     "metadata": {
      "needs_background": "light"
     },
     "output_type": "display_data"
    },
    {
     "data": {
      "image/png": "[encoded data removed]",
      "text/plain": [
       "<Figure size 432x288 with 1 Axes>"
      ]
     },
     "metadata": {
      "needs_background": "light"
     },
     "output_type": "display_data"
    }
   ],
   "source": [
    "epochs = range(len(history.history['acc']+history1.history['acc']))\n",
    "plt.plot(epochs, history.history['acc'] + history1.history['acc'], 'b', label = 'Training acc')\n",
    "plt.plot(epochs, history.history['val_acc']+history1.history['val_acc'], 'r',label = 'Validation acc')\n",
    "plt.title('Training and Validation accuracy')\n",
    "plt.legend()\n",
    "plt.figure()\n",
    "plt.plot(epochs, history.history['loss']+history1.history['loss'], 'b', label = 'Training loss')\n",
    "plt.plot(epochs, history.history['val_loss']+history1.history['val_loss'], 'r',label = 'Validation loss')\n",
    "plt.title('Training and Validation loss')\n",
    "plt.legend()"
   ]
  },
  {
   "cell_type": "markdown",
   "metadata": {},
   "source": [
    "### 7.問題\n",
    "調過了很多參數，也試過很多方法，但準確率總是在86%左右無法提升且出現overfitting的現象\n",
    "想請問助教有甚麼方法可以解決嗎"
   ]
  },
  {
   "cell_type": "code",
   "execution_count": null,
   "metadata": {},
   "outputs": [],
   "source": []
  }
 ],
 "metadata": {
  "kernelspec": {
   "display_name": "Python 3",
   "language": "python",
   "name": "python3"
  },
  "language_info": {
   "codemirror_mode": {
    "name": "ipython",
    "version": 3
   },
   "file_extension": ".py",
   "mimetype": "text/x-python",
   "name": "python",
   "nbconvert_exporter": "python",
   "pygments_lexer": "ipython3",
   "version": "3.8.5"
  }
 },
 "nbformat": 4,
 "nbformat_minor": 2
}
