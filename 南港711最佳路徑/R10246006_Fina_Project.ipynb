{
 "cells": [
  {
   "cell_type": "code",
   "execution_count": 1,
   "metadata": {},
   "outputs": [],
   "source": [
    "import numpy as np\n",
    "import pandas as pd\n",
    "import matplotlib.pyplot as plt\n",
    "from itertools import combinations, permutations\n",
    "from intervals import Interval\n",
    "import warnings\n",
    "warnings.filterwarnings(\"ignore\")"
   ]
  },
  {
   "cell_type": "code",
   "execution_count": 309,
   "metadata": {},
   "outputs": [],
   "source": [
    "pd.set_option(\"display.max_rows\", 20)"
   ]
  },
  {
   "cell_type": "markdown",
   "metadata": {},
   "source": [
    "# 2"
   ]
  },
  {
   "cell_type": "code",
   "execution_count": 389,
   "metadata": {},
   "outputs": [
    {
     "data": {
      "text/html": [
       "<div>\n",
       "<style scoped>\n",
       "    .dataframe tbody tr th:only-of-type {\n",
       "        vertical-align: middle;\n",
       "    }\n",
       "\n",
       "    .dataframe tbody tr th {\n",
       "        vertical-align: top;\n",
       "    }\n",
       "\n",
       "    .dataframe thead th {\n",
       "        text-align: right;\n",
       "    }\n",
       "</style>\n",
       "<table border=\"1\" class=\"dataframe\">\n",
       "  <thead>\n",
       "    <tr style=\"text-align: right;\">\n",
       "      <th></th>\n",
       "      <th>中坡</th>\n",
       "      <th>中研</th>\n",
       "      <th>中貿</th>\n",
       "      <th>玉成</th>\n",
       "      <th>玉德</th>\n",
       "      <th>向揚</th>\n",
       "      <th>庄研</th>\n",
       "      <th>佳樂</th>\n",
       "      <th>忠陽</th>\n",
       "      <th>昆陽</th>\n",
       "      <th>...</th>\n",
       "      <th>雄強</th>\n",
       "      <th>慈愛</th>\n",
       "      <th>新福玉</th>\n",
       "      <th>經貿</th>\n",
       "      <th>聯成</th>\n",
       "      <th>聯坊</th>\n",
       "      <th>馥樺</th>\n",
       "      <th>鵬馳</th>\n",
       "      <th>耀港</th>\n",
       "      <th>鑫貿</th>\n",
       "    </tr>\n",
       "  </thead>\n",
       "  <tbody>\n",
       "    <tr>\n",
       "      <th>中坡</th>\n",
       "      <td>0.00</td>\n",
       "      <td>5.4</td>\n",
       "      <td>4.70</td>\n",
       "      <td>2.20</td>\n",
       "      <td>0.45</td>\n",
       "      <td>2.40</td>\n",
       "      <td>5.6</td>\n",
       "      <td>3.4</td>\n",
       "      <td>2.00</td>\n",
       "      <td>1.70</td>\n",
       "      <td>...</td>\n",
       "      <td>1.2</td>\n",
       "      <td>3.0</td>\n",
       "      <td>0.50</td>\n",
       "      <td>4.00</td>\n",
       "      <td>1.8</td>\n",
       "      <td>1.1</td>\n",
       "      <td>4.4</td>\n",
       "      <td>2.00</td>\n",
       "      <td>4.10</td>\n",
       "      <td>4.70</td>\n",
       "    </tr>\n",
       "    <tr>\n",
       "      <th>中研</th>\n",
       "      <td>5.40</td>\n",
       "      <td>0.0</td>\n",
       "      <td>2.70</td>\n",
       "      <td>4.30</td>\n",
       "      <td>5.30</td>\n",
       "      <td>4.20</td>\n",
       "      <td>1.1</td>\n",
       "      <td>2.7</td>\n",
       "      <td>3.80</td>\n",
       "      <td>4.40</td>\n",
       "      <td>...</td>\n",
       "      <td>4.9</td>\n",
       "      <td>3.7</td>\n",
       "      <td>5.50</td>\n",
       "      <td>2.30</td>\n",
       "      <td>3.9</td>\n",
       "      <td>5.0</td>\n",
       "      <td>2.5</td>\n",
       "      <td>4.60</td>\n",
       "      <td>1.40</td>\n",
       "      <td>2.30</td>\n",
       "    </tr>\n",
       "    <tr>\n",
       "      <th>中貿</th>\n",
       "      <td>4.70</td>\n",
       "      <td>2.7</td>\n",
       "      <td>0.00</td>\n",
       "      <td>3.40</td>\n",
       "      <td>4.50</td>\n",
       "      <td>3.30</td>\n",
       "      <td>2.6</td>\n",
       "      <td>1.5</td>\n",
       "      <td>3.00</td>\n",
       "      <td>3.60</td>\n",
       "      <td>...</td>\n",
       "      <td>4.1</td>\n",
       "      <td>2.0</td>\n",
       "      <td>4.70</td>\n",
       "      <td>0.75</td>\n",
       "      <td>3.1</td>\n",
       "      <td>4.2</td>\n",
       "      <td>0.6</td>\n",
       "      <td>3.60</td>\n",
       "      <td>1.00</td>\n",
       "      <td>0.13</td>\n",
       "    </tr>\n",
       "    <tr>\n",
       "      <th>玉成</th>\n",
       "      <td>2.20</td>\n",
       "      <td>4.3</td>\n",
       "      <td>3.40</td>\n",
       "      <td>0.00</td>\n",
       "      <td>2.30</td>\n",
       "      <td>0.45</td>\n",
       "      <td>4.4</td>\n",
       "      <td>1.6</td>\n",
       "      <td>0.80</td>\n",
       "      <td>1.40</td>\n",
       "      <td>...</td>\n",
       "      <td>1.9</td>\n",
       "      <td>1.0</td>\n",
       "      <td>2.50</td>\n",
       "      <td>2.20</td>\n",
       "      <td>0.9</td>\n",
       "      <td>2.0</td>\n",
       "      <td>3.2</td>\n",
       "      <td>0.26</td>\n",
       "      <td>2.90</td>\n",
       "      <td>3.30</td>\n",
       "    </tr>\n",
       "    <tr>\n",
       "      <th>玉德</th>\n",
       "      <td>0.45</td>\n",
       "      <td>5.3</td>\n",
       "      <td>4.50</td>\n",
       "      <td>2.30</td>\n",
       "      <td>0.00</td>\n",
       "      <td>2.20</td>\n",
       "      <td>5.3</td>\n",
       "      <td>3.1</td>\n",
       "      <td>1.80</td>\n",
       "      <td>1.40</td>\n",
       "      <td>...</td>\n",
       "      <td>0.9</td>\n",
       "      <td>2.7</td>\n",
       "      <td>0.65</td>\n",
       "      <td>3.70</td>\n",
       "      <td>1.6</td>\n",
       "      <td>0.6</td>\n",
       "      <td>4.2</td>\n",
       "      <td>1.70</td>\n",
       "      <td>3.80</td>\n",
       "      <td>4.40</td>\n",
       "    </tr>\n",
       "    <tr>\n",
       "      <th>...</th>\n",
       "      <td>...</td>\n",
       "      <td>...</td>\n",
       "      <td>...</td>\n",
       "      <td>...</td>\n",
       "      <td>...</td>\n",
       "      <td>...</td>\n",
       "      <td>...</td>\n",
       "      <td>...</td>\n",
       "      <td>...</td>\n",
       "      <td>...</td>\n",
       "      <td>...</td>\n",
       "      <td>...</td>\n",
       "      <td>...</td>\n",
       "      <td>...</td>\n",
       "      <td>...</td>\n",
       "      <td>...</td>\n",
       "      <td>...</td>\n",
       "      <td>...</td>\n",
       "      <td>...</td>\n",
       "      <td>...</td>\n",
       "      <td>...</td>\n",
       "    </tr>\n",
       "    <tr>\n",
       "      <th>聯坊</th>\n",
       "      <td>1.10</td>\n",
       "      <td>5.0</td>\n",
       "      <td>4.20</td>\n",
       "      <td>2.00</td>\n",
       "      <td>0.60</td>\n",
       "      <td>2.40</td>\n",
       "      <td>5.2</td>\n",
       "      <td>2.9</td>\n",
       "      <td>1.70</td>\n",
       "      <td>1.20</td>\n",
       "      <td>...</td>\n",
       "      <td>1.8</td>\n",
       "      <td>2.5</td>\n",
       "      <td>0.65</td>\n",
       "      <td>3.80</td>\n",
       "      <td>1.1</td>\n",
       "      <td>0.0</td>\n",
       "      <td>3.7</td>\n",
       "      <td>1.80</td>\n",
       "      <td>3.40</td>\n",
       "      <td>4.00</td>\n",
       "    </tr>\n",
       "    <tr>\n",
       "      <th>馥樺</th>\n",
       "      <td>4.40</td>\n",
       "      <td>2.5</td>\n",
       "      <td>0.60</td>\n",
       "      <td>3.20</td>\n",
       "      <td>4.20</td>\n",
       "      <td>3.00</td>\n",
       "      <td>2.7</td>\n",
       "      <td>1.1</td>\n",
       "      <td>2.80</td>\n",
       "      <td>2.70</td>\n",
       "      <td>...</td>\n",
       "      <td>3.3</td>\n",
       "      <td>1.7</td>\n",
       "      <td>4.70</td>\n",
       "      <td>0.13</td>\n",
       "      <td>2.8</td>\n",
       "      <td>3.7</td>\n",
       "      <td>0.0</td>\n",
       "      <td>2.70</td>\n",
       "      <td>1.30</td>\n",
       "      <td>0.40</td>\n",
       "    </tr>\n",
       "    <tr>\n",
       "      <th>鵬馳</th>\n",
       "      <td>2.00</td>\n",
       "      <td>4.6</td>\n",
       "      <td>3.60</td>\n",
       "      <td>0.26</td>\n",
       "      <td>1.70</td>\n",
       "      <td>1.10</td>\n",
       "      <td>4.8</td>\n",
       "      <td>1.9</td>\n",
       "      <td>0.75</td>\n",
       "      <td>0.75</td>\n",
       "      <td>...</td>\n",
       "      <td>1.3</td>\n",
       "      <td>1.2</td>\n",
       "      <td>2.10</td>\n",
       "      <td>2.80</td>\n",
       "      <td>0.9</td>\n",
       "      <td>1.8</td>\n",
       "      <td>2.7</td>\n",
       "      <td>0.00</td>\n",
       "      <td>3.20</td>\n",
       "      <td>3.60</td>\n",
       "    </tr>\n",
       "    <tr>\n",
       "      <th>耀港</th>\n",
       "      <td>4.10</td>\n",
       "      <td>1.4</td>\n",
       "      <td>1.00</td>\n",
       "      <td>2.90</td>\n",
       "      <td>3.80</td>\n",
       "      <td>3.40</td>\n",
       "      <td>1.7</td>\n",
       "      <td>1.3</td>\n",
       "      <td>2.60</td>\n",
       "      <td>2.40</td>\n",
       "      <td>...</td>\n",
       "      <td>2.9</td>\n",
       "      <td>2.3</td>\n",
       "      <td>4.00</td>\n",
       "      <td>1.10</td>\n",
       "      <td>2.5</td>\n",
       "      <td>3.4</td>\n",
       "      <td>1.3</td>\n",
       "      <td>3.20</td>\n",
       "      <td>0.00</td>\n",
       "      <td>0.85</td>\n",
       "    </tr>\n",
       "    <tr>\n",
       "      <th>鑫貿</th>\n",
       "      <td>4.70</td>\n",
       "      <td>2.3</td>\n",
       "      <td>0.13</td>\n",
       "      <td>3.30</td>\n",
       "      <td>4.40</td>\n",
       "      <td>3.10</td>\n",
       "      <td>2.5</td>\n",
       "      <td>1.5</td>\n",
       "      <td>3.00</td>\n",
       "      <td>3.00</td>\n",
       "      <td>...</td>\n",
       "      <td>3.5</td>\n",
       "      <td>1.8</td>\n",
       "      <td>4.60</td>\n",
       "      <td>0.50</td>\n",
       "      <td>3.1</td>\n",
       "      <td>4.0</td>\n",
       "      <td>0.4</td>\n",
       "      <td>3.60</td>\n",
       "      <td>0.85</td>\n",
       "      <td>0.00</td>\n",
       "    </tr>\n",
       "  </tbody>\n",
       "</table>\n",
       "<p>36 rows × 36 columns</p>\n",
       "</div>"
      ],
      "text/plain": [
       "      中坡   中研    中貿    玉成    玉德    向揚   庄研   佳樂    忠陽    昆陽  ...   雄強   慈愛  \\\n",
       "中坡  0.00  5.4  4.70  2.20  0.45  2.40  5.6  3.4  2.00  1.70  ...  1.2  3.0   \n",
       "中研  5.40  0.0  2.70  4.30  5.30  4.20  1.1  2.7  3.80  4.40  ...  4.9  3.7   \n",
       "中貿  4.70  2.7  0.00  3.40  4.50  3.30  2.6  1.5  3.00  3.60  ...  4.1  2.0   \n",
       "玉成  2.20  4.3  3.40  0.00  2.30  0.45  4.4  1.6  0.80  1.40  ...  1.9  1.0   \n",
       "玉德  0.45  5.3  4.50  2.30  0.00  2.20  5.3  3.1  1.80  1.40  ...  0.9  2.7   \n",
       "..   ...  ...   ...   ...   ...   ...  ...  ...   ...   ...  ...  ...  ...   \n",
       "聯坊  1.10  5.0  4.20  2.00  0.60  2.40  5.2  2.9  1.70  1.20  ...  1.8  2.5   \n",
       "馥樺  4.40  2.5  0.60  3.20  4.20  3.00  2.7  1.1  2.80  2.70  ...  3.3  1.7   \n",
       "鵬馳  2.00  4.6  3.60  0.26  1.70  1.10  4.8  1.9  0.75  0.75  ...  1.3  1.2   \n",
       "耀港  4.10  1.4  1.00  2.90  3.80  3.40  1.7  1.3  2.60  2.40  ...  2.9  2.3   \n",
       "鑫貿  4.70  2.3  0.13  3.30  4.40  3.10  2.5  1.5  3.00  3.00  ...  3.5  1.8   \n",
       "\n",
       "     新福玉    經貿   聯成   聯坊   馥樺    鵬馳    耀港    鑫貿  \n",
       "中坡  0.50  4.00  1.8  1.1  4.4  2.00  4.10  4.70  \n",
       "中研  5.50  2.30  3.9  5.0  2.5  4.60  1.40  2.30  \n",
       "中貿  4.70  0.75  3.1  4.2  0.6  3.60  1.00  0.13  \n",
       "玉成  2.50  2.20  0.9  2.0  3.2  0.26  2.90  3.30  \n",
       "玉德  0.65  3.70  1.6  0.6  4.2  1.70  3.80  4.40  \n",
       "..   ...   ...  ...  ...  ...   ...   ...   ...  \n",
       "聯坊  0.65  3.80  1.1  0.0  3.7  1.80  3.40  4.00  \n",
       "馥樺  4.70  0.13  2.8  3.7  0.0  2.70  1.30  0.40  \n",
       "鵬馳  2.10  2.80  0.9  1.8  2.7  0.00  3.20  3.60  \n",
       "耀港  4.00  1.10  2.5  3.4  1.3  3.20  0.00  0.85  \n",
       "鑫貿  4.60  0.50  3.1  4.0  0.4  3.60  0.85  0.00  \n",
       "\n",
       "[36 rows x 36 columns]"
      ]
     },
     "execution_count": 389,
     "metadata": {},
     "output_type": "execute_result"
    }
   ],
   "source": [
    "data = pd.read_csv(\"distance.csv\", encoding = 'big5', index_col=\"Unnamed: 0\")\n",
    "data"
   ]
  },
  {
   "cell_type": "markdown",
   "metadata": {},
   "source": [
    "# 3"
   ]
  },
  {
   "cell_type": "code",
   "execution_count": 3,
   "metadata": {},
   "outputs": [],
   "source": [
    "def create_candidate(initial, tabu_list = []):\n",
    "    initial = list(initial)\n",
    "    candidate_dict = {}\n",
    "    L = list(range(len(initial)))\n",
    "    L.pop(0)\n",
    "    moves = list(combinations(L,2))\n",
    "    for tabu in tabu_list:\n",
    "        moves.pop(moves.index(tabu))\n",
    "    for move in moves:\n",
    "        clone = initial.copy()\n",
    "        clone[move[0]], clone[move[1]] = initial[move[1]], initial[move[0]]\n",
    "        candidate_dict.update({tuple(clone):move})\n",
    "    return candidate_dict"
   ]
  },
  {
   "cell_type": "code",
   "execution_count": 4,
   "metadata": {},
   "outputs": [],
   "source": [
    "def count_distance(candidate_dict):\n",
    "    num = len(list(candidate_dict.keys())[0])\n",
    "    distance_dict = {}\n",
    "    for shop, moves in candidate_dict.items():\n",
    "        distance_dict.update({shop:np.around(sum([data.loc[shop[i], shop[i+1]] for i in range(-num, 0)]), 2)})\n",
    "    return distance_dict"
   ]
  },
  {
   "cell_type": "code",
   "execution_count": 5,
   "metadata": {},
   "outputs": [],
   "source": [
    "def get_key (D, value):\n",
    "    return [k for k, v in D.items() if v == value]"
   ]
  },
  {
   "cell_type": "code",
   "execution_count": 431,
   "metadata": {},
   "outputs": [],
   "source": [
    "def visualizing(state_best, distances, name):\n",
    "    print(f\"The minimal distance by {name} way is {np.round(min(distances))} km.\")\n",
    "    print(f\"The best state of store names in order is {state_best}\")\n",
    "    plt.title(name)\n",
    "    plt.plot(distances)\n",
    "    plt.xlabel(\"iteration\")\n",
    "    plt.ylabel(\"distance\")\n",
    "    plt.show()"
   ]
  },
  {
   "cell_type": "markdown",
   "metadata": {},
   "source": [
    "### Hill_Climbing"
   ]
  },
  {
   "cell_type": "code",
   "execution_count": 331,
   "metadata": {},
   "outputs": [],
   "source": [
    "def Hill_Climbing(data, max_iterations=100):\n",
    "    index = np.random.choice(len(data), size = len(data.columns), replace = False)\n",
    "    state_best = state_cur = tuple(data.columns[np.array(index)])\n",
    "    distance_best =  distance_cur = sum(count_distance({state_cur:(0, 0)}).values())\n",
    "    distances = []\n",
    "    iteration = 1\n",
    "    while iteration <= max_iterations:\n",
    "        candidate_dict = create_candidate(state_cur)\n",
    "        distance_dict = count_distance(candidate_dict)\n",
    "        \n",
    "        state_new = get_key(distance_dict, min(distance_dict.values()))[0]\n",
    "        distance_new = min(distance_dict.values())\n",
    "        if distance_new < distance_best:\n",
    "            state_best = state_cur = state_new \n",
    "            distance_best =  distance_cur = distance_new\n",
    "        distances.append(distance_best)\n",
    "        iteration += 1\n",
    "    return state_best, distances"
   ]
  },
  {
   "cell_type": "code",
   "execution_count": 332,
   "metadata": {},
   "outputs": [],
   "source": [
    "state_best1, distances1 = Hill_Climbing(data)"
   ]
  },
  {
   "cell_type": "code",
   "execution_count": 681,
   "metadata": {},
   "outputs": [
    {
     "name": "stdout",
     "output_type": "stream",
     "text": [
      "The minimal distance by Hill_Climbing way is 35.0 km.\n",
      "The best state of store names in order is ('馥樺', '中貿', '鑫貿', '港興', '慈愛', '重陽', '鵬馳', '凱松', '港運', '雄強', '玉德', '中坡', '港德', '新福玉', '林坊', '聯坊', '港麗', '港高鐵', '港勝', '港捷', '胡適', '研究', '玉成', '向揚', '港環球', '佳樂', '香城', '耀港', '中研', '庄研', '華技', '港泰', '聯成', '昆陽', '忠陽', '經貿')\n"
     ]
    },
    {
     "data": {
      "image/png": "[encoded data removed]",
      "text/plain": [
       "<Figure size 432x288 with 1 Axes>"
      ]
     },
     "metadata": {
      "needs_background": "light"
     },
     "output_type": "display_data"
    }
   ],
   "source": [
    "visualizing(state_best1, distances1, \"Hill_Climbing\")"
   ]
  },
  {
   "cell_type": "markdown",
   "metadata": {},
   "source": [
    "## Random_Walk"
   ]
  },
  {
   "cell_type": "code",
   "execution_count": 10,
   "metadata": {},
   "outputs": [],
   "source": [
    "def Random_Walk(data, max_iterations=100):\n",
    "    index = np.random.choice(len(data), size = len(data), replace = False)\n",
    "    state_best = state_cur = tuple(data.columns[np.array(index)])\n",
    "    distance_best =  distance_cur = sum(count_distance({state_cur:(0, 0)}).values())\n",
    "    distances = []\n",
    "    iteration = 1\n",
    "    while iteration <= max_iterations:\n",
    "        candidate_dict = create_candidate(state_cur)\n",
    "        distance_dict = count_distance(candidate_dict)\n",
    "        \n",
    "        state_cur = state_new = get_key(distance_dict, min(distance_dict.values()))[0]\n",
    "        distance_cur = distance_new = min(distance_dict.values())\n",
    "        \n",
    "        if distance_new < distance_best:\n",
    "            state_best = state_new\n",
    "            distance_best =  distance_new\n",
    "        distances.append(distance_best)\n",
    "        iteration += 1\n",
    "    return state_best, distances"
   ]
  },
  {
   "cell_type": "code",
   "execution_count": 334,
   "metadata": {},
   "outputs": [],
   "source": [
    "state_best2, distances2 = Random_Walk(data)"
   ]
  },
  {
   "cell_type": "code",
   "execution_count": 335,
   "metadata": {},
   "outputs": [
    {
     "name": "stdout",
     "output_type": "stream",
     "text": [
      "The minimal distance by Random_Walk way is 32.39 km.\n",
      "The best state of store names in order is ('聯成', '聯坊', '新福玉', '港德', '中坡', '林坊', '玉德', '港運', '凱松', '鵬馳', '佳樂', '研究', '胡適', '港勝', '港高鐵', '港環球', '港興', '慈愛', '重陽', '香城', '耀港', '中研', '華技', '庄研', '港捷', '經貿', '馥樺', '鑫貿', '中貿', '港泰', '港麗', '昆陽', '雄強', '忠陽', '向揚', '玉成')\n"
     ]
    },
    {
     "data": {
      "image/png": "[encoded data removed]",
      "text/plain": [
       "<Figure size 432x288 with 1 Axes>"
      ]
     },
     "metadata": {
      "needs_background": "light"
     },
     "output_type": "display_data"
    }
   ],
   "source": [
    "visualizing(state_best2, distances2, \"Random_Walk\")"
   ]
  },
  {
   "cell_type": "markdown",
   "metadata": {},
   "source": [
    "## GA"
   ]
  },
  {
   "cell_type": "code",
   "execution_count": 493,
   "metadata": {},
   "outputs": [],
   "source": [
    "def Selection(index_list, n = 10, p_s = 0.6):\n",
    "    m = int(n * p_s)\n",
    "    Selected, Unselected = [], []\n",
    "    distance_list = []\n",
    "    index_list = np.array([np.random.choice(len(data), size = len(data), replace = False) for _ in range(n)])\n",
    "    for index in index_list:\n",
    "        distance_list.append(sum([data.iloc[index[i], index[i+1]] for i in range(-len(data.columns), 0)]))\n",
    "    distance_arr = np.array(distance_list)\n",
    "    prob_list = (1- distance_arr / sum(distance_arr))/(len(distance_arr)-1)\n",
    "    num = np.random.choice(range(len(index_list)), m, p = prob_list, replace = False) \n",
    "    Selected.extend(index_list[num])\n",
    "    Unselected.extend(index_list[list(set(range(m)) - set(num) )])\n",
    "    return Selected, Unselected "
   ]
  },
  {
   "cell_type": "code",
   "execution_count": 14,
   "metadata": {},
   "outputs": [],
   "source": [
    "def Crossover(mate_pool, length = 10, p_c = 0.8):\n",
    "    offsprings = []\n",
    "    if len(mate_pool) == 0:\n",
    "        return []\n",
    "    for i in range(0, len(mate_pool), 2):\n",
    "        if np.random.uniform(0, 1) > p_c:\n",
    "            offsprings.append(mate_pool[i])\n",
    "            offsprings.append(mate_pool[i+1])\n",
    "            continue\n",
    "        else:\n",
    "            L1, L2 = mate_pool[i], mate_pool[i+1]\n",
    "            position = np.random.choice(len(L1)-4)\n",
    "            G1, G2 = list(L1[position:position+length]), list(L2[position:position+length])\n",
    "            O1, O2 = list(L1[position+length:]), list(L2[position+length:])\n",
    "            O1.extend(L1[:position+length])\n",
    "            O2.extend(L2[:position+length])\n",
    "            for i in range(len(O1)):\n",
    "                if (position + len(G2)) <= (len(O1) - 1):\n",
    "                    if O1[i] not in G2:\n",
    "                        G2.append(O1[i])\n",
    "                else:\n",
    "                    if O1[i] not in G2:\n",
    "                        G2.insert(position + len(G2) - len(O1), O1[i])\n",
    "            for i in range(len(O2)):\n",
    "                if (position + len(G1)) <= (len(O2) - 1):\n",
    "                    if O2[i] not in G1:\n",
    "                        G1.append(O2[i])\n",
    "                else:\n",
    "                    if O2[i] not in G1:\n",
    "                        G1.insert(position + len(G1) - len(O2), O2[i])\n",
    "            offsprings.append(np.array(G1))\n",
    "            offsprings.append(np.array(G2))\n",
    "    return np.array(offsprings)"
   ]
  },
  {
   "cell_type": "code",
   "execution_count": 15,
   "metadata": {},
   "outputs": [],
   "source": [
    "def Mutation(population, p_m = 0.1):\n",
    "    for individual in population:\n",
    "        for i in range(len(individual)):\n",
    "            if np.random.uniform(low = 0, high = 1) <= p_m:\n",
    "                a = np.random.choice(len(individual)-1)\n",
    "                individual[i], individual[a] = individual[a], individual[i]\n",
    "    return population"
   ]
  },
  {
   "cell_type": "code",
   "execution_count": 686,
   "metadata": {},
   "outputs": [],
   "source": [
    "def GA(n = 10, iteration = 10, p_c = 0.8, p_m = 0.1, p_s = 0.6):\n",
    "    index_list = np.array([np.random.choice(len(data), size = len(data), replace = False) for _ in range(n)])\n",
    "    population_cur = list(map(tuple, data.columns[np.array(index_list)]))\n",
    "    distances = []\n",
    "    D = {}\n",
    "    for individual in population_cur:\n",
    "        D.update({individual:sum(count_distance({individual:(0, 0)}).values())})\n",
    "    state_best = state_cur = get_key(D, min(D.values()))\n",
    "    distance_best =  distance_cur = min(D.values())\n",
    "    for i in range(iteration):\n",
    "        mate_pool, unselected = Selection(index_list, n) if i == 0 else Selection(new_generation, n)\n",
    "        offsprings = Mutation(Crossover(mate_pool))\n",
    "        parents = Mutation(mate_pool)\n",
    "        generation = np.append(offsprings , parents, axis = 0)\n",
    "        \n",
    "        distance_list = []\n",
    "        for index in generation:\n",
    "            distance_list.append(sum([data.iloc[index[i], index[i+1]] for i in range(-len(data.columns), 0)]))\n",
    "        distance_arr = np.array(distance_list)\n",
    "        prob_list = (1- distance_arr / sum(distance_arr))/(len(distance_arr)-1)\n",
    "        num = np.random.choice(range(len(generation)), n, p = prob_list, replace = False) \n",
    "        new_generation = generation[num]\n",
    "        \n",
    "        \n",
    "        D = {}\n",
    "        for individual in list(map(tuple, data.columns[np.array(new_generation)])):\n",
    "            D.update({individual:sum(count_distance({individual:(0, 0)}).values())})\n",
    "        state_cur = get_key(D, min(D.values()))\n",
    "        distance_cur = min(D.values())\n",
    "        if distance_cur < distance_best:\n",
    "            state_best = state_cur\n",
    "            distance_best =  distance_cur\n",
    "        distances.extend([distance_best])\n",
    "        print(i)\n",
    "    return state_best, distances"
   ]
  },
  {
   "cell_type": "code",
   "execution_count": 939,
   "metadata": {
    "scrolled": true
   },
   "outputs": [
    {
     "name": "stdout",
     "output_type": "stream",
     "text": [
      "0\n",
      "1\n",
      "2\n",
      "3\n",
      "4\n",
      "5\n",
      "6\n",
      "7\n",
      "8\n",
      "9\n",
      "10\n",
      "11\n",
      "12\n",
      "13\n",
      "14\n",
      "15\n",
      "16\n",
      "17\n",
      "18\n",
      "19\n",
      "20\n",
      "21\n",
      "22\n",
      "23\n",
      "24\n",
      "25\n",
      "26\n",
      "27\n",
      "28\n",
      "29\n",
      "30\n",
      "31\n",
      "32\n",
      "33\n",
      "34\n",
      "35\n",
      "36\n",
      "37\n",
      "38\n",
      "39\n",
      "40\n",
      "41\n",
      "42\n",
      "43\n",
      "44\n",
      "45\n",
      "46\n",
      "47\n",
      "48\n",
      "49\n",
      "50\n",
      "51\n",
      "52\n",
      "53\n",
      "54\n",
      "55\n",
      "56\n",
      "57\n",
      "58\n",
      "59\n",
      "60\n",
      "61\n",
      "62\n",
      "63\n",
      "64\n",
      "65\n",
      "66\n",
      "67\n",
      "68\n",
      "69\n",
      "70\n",
      "71\n",
      "72\n",
      "73\n",
      "74\n",
      "75\n",
      "76\n",
      "77\n",
      "78\n",
      "79\n",
      "80\n",
      "81\n",
      "82\n",
      "83\n",
      "84\n",
      "85\n",
      "86\n",
      "87\n",
      "88\n",
      "89\n",
      "90\n",
      "91\n",
      "92\n",
      "93\n",
      "94\n",
      "95\n",
      "96\n",
      "97\n",
      "98\n",
      "99\n"
     ]
    }
   ],
   "source": [
    "state_best3, distances3= GA(n = 630, iteration = 100, p_c = 0.8, p_m = 0.1, p_s = 0.8)"
   ]
  },
  {
   "cell_type": "code",
   "execution_count": 940,
   "metadata": {},
   "outputs": [
    {
     "name": "stdout",
     "output_type": "stream",
     "text": [
      "The minimal distance by GA way is 60.0 km.\n",
      "The best state of store names in order is [('玉成', '中坡', '雄強', '港環球', '港興', '華技', '庄研', '馥樺', '中研', '胡適', '中貿', '鑫貿', '慈愛', '凱松', '新福玉', '玉德', '港運', '聯成', '香城', '港德', '昆陽', '重陽', '佳樂', '研究', '港勝', '耀港', '港高鐵', '港泰', '經貿', '港麗', '港捷', '鵬馳', '向揚', '聯坊', '忠陽', '林坊')]\n"
     ]
    },
    {
     "data": {
      "image/png": "[encoded data removed]",
      "text/plain": [
       "<Figure size 432x288 with 1 Axes>"
      ]
     },
     "metadata": {
      "needs_background": "light"
     },
     "output_type": "display_data"
    }
   ],
   "source": [
    "visualizing(state_best3, distances3, \"GA\")"
   ]
  },
  {
   "cell_type": "markdown",
   "metadata": {},
   "source": [
    "## Simulated_Annealing"
   ]
  },
  {
   "cell_type": "code",
   "execution_count": 311,
   "metadata": {},
   "outputs": [],
   "source": [
    "def Get_temperature(T, iteration, c = 0.025):\n",
    "    return (1-c)**iteration * T"
   ]
  },
  {
   "cell_type": "code",
   "execution_count": 312,
   "metadata": {},
   "outputs": [],
   "source": [
    "def Update_probability(cost_cur, cost_new, T, k = 0.01):\n",
    "    if cost_new <= cost_cur:\n",
    "        return 1\n",
    "    else:\n",
    "        return np.exp(-(cost_new - cost_cur) / (k * T))"
   ]
  },
  {
   "cell_type": "code",
   "execution_count": 313,
   "metadata": {},
   "outputs": [],
   "source": [
    "def Simulated_Annealing(data, Get_temperature, Update_probability, max_iterations=100, min_T = 0.01):\n",
    "    T_list = []\n",
    "    for i in range(11):\n",
    "        index = np.random.choice(len(data), size = len(data), replace = False)\n",
    "        initial = tuple(data.columns[np.array(index)])\n",
    "        T_list.append(sum(count_distance({initial:(0, 0)}).values()))\n",
    "    T = np.array(T_list).mean()\n",
    "    state_best = state_cur = tuple(data.columns[np.array(index)])\n",
    "    distance_best =  distance_cur = sum(count_distance({state_cur:(0, 0)}).values())\n",
    "    distances = []\n",
    "    iteration = 1\n",
    "    times = 0\n",
    "    while (T > min_T) and (iteration <= max_iterations):\n",
    "        candidate_dict = create_candidate(state_cur)\n",
    "        distance_dict = count_distance(candidate_dict)\n",
    "        \n",
    "        state_new = get_key(distance_dict, min(distance_dict.values()))[0]\n",
    "        distance_new = min(distance_dict.values())\n",
    "        \n",
    "        if Update_probability(distance_best, distance_new, T, k = 0.1) > np.random.uniform(0, 1):\n",
    "            state_cur = state_new\n",
    "            distance_cur =  distance_new\n",
    "            times += 1\n",
    "            T = Get_temperature(T, times)\n",
    "            if distance_new < distance_best:\n",
    "                state_best = state_new\n",
    "                distance_best = distance_new\n",
    "        distances.append(distance_best)  \n",
    "        iteration += 1  \n",
    "    return state_best, distances   "
   ]
  },
  {
   "cell_type": "code",
   "execution_count": 314,
   "metadata": {},
   "outputs": [],
   "source": [
    "state_best4, distances4 = Simulated_Annealing(data, Get_temperature, Update_probability)"
   ]
  },
  {
   "cell_type": "code",
   "execution_count": 23,
   "metadata": {},
   "outputs": [
    {
     "name": "stdout",
     "output_type": "stream",
     "text": [
      "The minimal distance by Simulated_Annealing way is 28.35 km.\n",
      "The best state of store names in order is ('中貿', '耀港', '中研', '庄研', '華技', '胡適', '研究', '佳樂', '香城', '港勝', '港捷', '經貿', '昆陽', '聯成', '林坊', '聯坊', '新福玉', '港德', '雄強', '忠陽', '玉成', '鵬馳', '凱松', '港運', '中坡', '玉德', '向揚', '重陽', '慈愛', '港興', '港環球', '港泰', '港麗', '港高鐵', '馥樺', '鑫貿')\n"
     ]
    },
    {
     "data": {
      "image/png": "[encoded data removed]",
      "text/plain": [
       "<Figure size 432x288 with 1 Axes>"
      ]
     },
     "metadata": {
      "needs_background": "light"
     },
     "output_type": "display_data"
    }
   ],
   "source": [
    "visualizing(state_best4, distances4, \"Simulated_Annealing\")"
   ]
  },
  {
   "cell_type": "markdown",
   "metadata": {},
   "source": [
    "## Tabu_Search"
   ]
  },
  {
   "cell_type": "code",
   "execution_count": 24,
   "metadata": {},
   "outputs": [],
   "source": [
    "def update_tabu_list(tabu_list, move, max_tabu):\n",
    "    tabu_list.append(move)\n",
    "    if len(tabu_list) > max_tabu:\n",
    "        tabu_list.pop(0)\n",
    "    return tabu_list"
   ]
  },
  {
   "cell_type": "code",
   "execution_count": 337,
   "metadata": {},
   "outputs": [],
   "source": [
    "def Tabu_Search(data, max_iterations=100, max_tabu = 10):\n",
    "    index = np.random.choice(len(data), size = len(data), replace = False)\n",
    "    state_best = state_cur = tuple(data.columns[np.array(index)])\n",
    "    distance_best =  distance_cur = sum(count_distance({state_cur:(0, 0)}).values())\n",
    "    distances = []\n",
    "    tabu_list = []\n",
    "    iteration = 1\n",
    "    while iteration <= max_iterations:\n",
    "        candidate_dict = create_candidate(state_cur, tabu_list)\n",
    "        distance_dict = count_distance(candidate_dict)\n",
    "        state_new = get_key(distance_dict, min(distance_dict.values()))[0]\n",
    "        distance_new = min(distance_dict.values())\n",
    "        \n",
    "        move = candidate_dict[state_new]\n",
    "        update_tabu_list(tabu_list, move, max_tabu)\n",
    "        state_cur = state_new \n",
    "        distance_cur = distance_new\n",
    "        if distance_new < distance_best:\n",
    "            state_best = state_cur = state_new \n",
    "            distance_best =  distance_cur = distance_new\n",
    "        distances.append(distance_best)\n",
    "        iteration += 1\n",
    "    return state_best, distances"
   ]
  },
  {
   "cell_type": "code",
   "execution_count": 338,
   "metadata": {},
   "outputs": [],
   "source": [
    "state_best5, distances5 = Tabu_Search(data)"
   ]
  },
  {
   "cell_type": "code",
   "execution_count": 339,
   "metadata": {},
   "outputs": [
    {
     "name": "stdout",
     "output_type": "stream",
     "text": [
      "The minimal distance by Tabu_Search way is 27.02 km.\n",
      "The best state of store names in order is ('研究', '胡適', '華技', '庄研', '中研', '耀港', '港勝', '港高鐵', '港泰', '港環球', '港興', '佳樂', '香城', '經貿', '馥樺', '港捷', '鑫貿', '中貿', '慈愛', '重陽', '向揚', '玉成', '鵬馳', '凱松', '港運', '中坡', '玉德', '雄強', '忠陽', '昆陽', '聯成', '林坊', '聯坊', '新福玉', '港德', '港麗')\n"
     ]
    },
    {
     "data": {
      "image/png": "[encoded data removed]",
      "text/plain": [
       "<Figure size 432x288 with 1 Axes>"
      ]
     },
     "metadata": {
      "needs_background": "light"
     },
     "output_type": "display_data"
    }
   ],
   "source": [
    "visualizing(state_best5, distances5, \"Tabu_Search\")"
   ]
  },
  {
   "cell_type": "markdown",
   "metadata": {},
   "source": [
    "## PSO"
   ]
  },
  {
   "cell_type": "code",
   "execution_count": 840,
   "metadata": {},
   "outputs": [],
   "source": [
    "def vec(X, Y):\n",
    "    A, B = X.copy(), Y.copy()\n",
    "    vec = []\n",
    "    for i in range(len(A)):\n",
    "        j = np.where(A == B[i])[0][0]\n",
    "        if i != j:\n",
    "            vec.append(tuple([np.where(A == B[i])[0][0], i]))\n",
    "            A[i], A[j] = A[j], A[i]\n",
    "    return vec"
   ]
  },
  {
   "cell_type": "code",
   "execution_count": 792,
   "metadata": {},
   "outputs": [],
   "source": [
    "def count_d(position):\n",
    "    distance_list = []\n",
    "    for i in range(len(position)-1):\n",
    "        distance_list.append(data.iloc[tuple([position[i], position[i+1]])])\n",
    "    return np.round(sum(distance_list), 2)"
   ]
  },
  {
   "cell_type": "code",
   "execution_count": 888,
   "metadata": {},
   "outputs": [],
   "source": [
    "def swap(position, vel):\n",
    "    A = position.copy()\n",
    "    for i in vel:\n",
    "        A[i[0]], A[i[1]] = A[i[1]], A[i[0]]\n",
    "    return A"
   ]
  },
  {
   "cell_type": "code",
   "execution_count": 934,
   "metadata": {
    "scrolled": true
   },
   "outputs": [],
   "source": [
    "def PSO(data, n = 10, iterations = 10, p0 = 0.7, p1 = 0.2, p2 = 0.1):\n",
    "    positions = np.array([np.random.choice(len(data), size = len(data), replace = False) for _ in range(n)])\n",
    "    previous_step = positions\n",
    "    pbest = positions\n",
    "    gbest = [positions[np.argmin([count_d(position) for position in positions])]]\n",
    "    distances = []\n",
    "    gap0, gap1, gap2 = -0.1*1/n, 0.1*1/n, 0.5*1/n\n",
    "    for iteration in range(iterations):\n",
    "        print(iteration)\n",
    "        p0, p1, p2 = 0.7-(0.6*iteration/iterations), 0.2+(0.1*iteration/iterations), 0.1+(0.5*iteration/iterations)\n",
    "        vel = [[] for _ in range(n)]\n",
    "        for i in range(n):\n",
    "            for move in vec(positions[i], previous_step[i]):\n",
    "                r = np.random.uniform(0, 1)\n",
    "                if r < p0:\n",
    "                    vel[i].append(move)\n",
    "            for move in vec(positions[i], pbest[i]):\n",
    "                r = np.random.uniform(0, 1)\n",
    "                if r < p1:\n",
    "                    vel[i].append(move)\n",
    "            for move in vec(positions[i], gbest[iteration]):\n",
    "                r = np.random.uniform(0, 1)\n",
    "                if r < p2:\n",
    "                    vel[i].append(move)\n",
    "            previous_step[i] = positions[i]\n",
    "            positions[i] = swap(positions[i], vel[i])\n",
    "            distance_cur = count_d(positions[i])\n",
    "            distance_pbest = count_d(pbest[i])\n",
    "            if distance_cur < distance_pbest:\n",
    "                pbest.append(position)\n",
    "        distance_gbest = min([count_d(position) for position in positions])\n",
    "        distances.append(count_d(gbest[-1]))\n",
    "        if distance_gbest < count_d(gbest[-1]):\n",
    "            gbest.append(positions[np.argmin([count_d(position) for position in positions])])\n",
    "        else:\n",
    "            gbest.append(gbest[iteration])\n",
    "    return tuple(data.columns[gbest[-1]]), distances"
   ]
  },
  {
   "cell_type": "code",
   "execution_count": 937,
   "metadata": {
    "scrolled": true
   },
   "outputs": [
    {
     "name": "stdout",
     "output_type": "stream",
     "text": [
      "0\n",
      "1\n",
      "2\n",
      "3\n",
      "4\n",
      "5\n",
      "6\n",
      "7\n",
      "8\n",
      "9\n",
      "10\n",
      "11\n",
      "12\n",
      "13\n",
      "14\n",
      "15\n",
      "16\n",
      "17\n",
      "18\n",
      "19\n",
      "20\n",
      "21\n",
      "22\n",
      "23\n",
      "24\n",
      "25\n",
      "26\n",
      "27\n",
      "28\n",
      "29\n",
      "30\n",
      "31\n",
      "32\n",
      "33\n",
      "34\n",
      "35\n",
      "36\n",
      "37\n",
      "38\n",
      "39\n",
      "40\n",
      "41\n",
      "42\n",
      "43\n",
      "44\n",
      "45\n",
      "46\n",
      "47\n",
      "48\n",
      "49\n",
      "50\n",
      "51\n",
      "52\n",
      "53\n",
      "54\n",
      "55\n",
      "56\n",
      "57\n",
      "58\n",
      "59\n",
      "60\n",
      "61\n",
      "62\n",
      "63\n",
      "64\n",
      "65\n",
      "66\n",
      "67\n",
      "68\n",
      "69\n",
      "70\n",
      "71\n",
      "72\n",
      "73\n",
      "74\n",
      "75\n",
      "76\n",
      "77\n",
      "78\n",
      "79\n",
      "80\n",
      "81\n",
      "82\n",
      "83\n",
      "84\n",
      "85\n",
      "86\n",
      "87\n",
      "88\n",
      "89\n",
      "90\n",
      "91\n",
      "92\n",
      "93\n",
      "94\n",
      "95\n",
      "96\n",
      "97\n",
      "98\n",
      "99\n"
     ]
    }
   ],
   "source": [
    "state_best6, distances6 = PSO(data, n = 630, iterations=100)"
   ]
  },
  {
   "cell_type": "code",
   "execution_count": 938,
   "metadata": {},
   "outputs": [
    {
     "name": "stdout",
     "output_type": "stream",
     "text": [
      "The minimal distance by PSO way is 36.0 km.\n",
      "The best state of store names in order is ('重陽', '佳樂', '耀港', '研究', '庄研', '中研', '忠陽', '鵬馳', '玉成', '經貿', '中貿', '馥樺', '鑫貿', '港捷', '香城', '港泰', '港環球', '昆陽', '聯成', '雄強', '新福玉', '玉德', '港德', '聯坊', '林坊', '中坡', '港運', '凱松', '向揚', '慈愛', '港興', '港麗', '港高鐵', '港勝', '胡適', '華技')\n"
     ]
    },
    {
     "data": {
      "image/png": "[encoded data removed]",
      "text/plain": [
       "<Figure size 432x288 with 1 Axes>"
      ]
     },
     "metadata": {
      "needs_background": "light"
     },
     "output_type": "display_data"
    }
   ],
   "source": [
    "visualizing(state_best6, distances6, \"PSO\")"
   ]
  },
  {
   "cell_type": "markdown",
   "metadata": {},
   "source": [
    "## ASO"
   ]
  },
  {
   "cell_type": "code",
   "execution_count": 659,
   "metadata": {},
   "outputs": [],
   "source": [
    "def update_pheromone(pheromone, path_list, distance_list, zeta = 2 ,rho = 0.5):\n",
    "    copy = pheromone\n",
    "    evaporation = (1 - rho) * pheromone\n",
    "    path_count = {}\n",
    "    for path in set(path_list):\n",
    "        plus = zeta * min(distance_list) / max(distance_list) * path_list.count(path)\n",
    "        copy[path] =  plus + evaporation[path]\n",
    "    return copy"
   ]
  },
  {
   "cell_type": "code",
   "execution_count": 693,
   "metadata": {},
   "outputs": [],
   "source": [
    "def ACO(data, n = 10, iterations = 10, alpha = 0.7, beta = 0.7):\n",
    "    distances = []\n",
    "    distance_best = np.inf\n",
    "    pheromone = np.ones((len(data), len(data))) - np.eye(len(data))\n",
    "    ants = np.random.uniform(0, 1, n)\n",
    "    for i in range(iterations):\n",
    "        print(i)\n",
    "        all_path = []\n",
    "        all_distance = []\n",
    "        for k in range(n):\n",
    "            path_list = []\n",
    "            distance_list = []\n",
    "            A = np.array([pheromone[i] for i in list(permutations(range(36),2))]) ** alpha\n",
    "            B = (1 / np.array([data.iloc[i] for i in list(permutations(range(36),2))])) ** beta\n",
    "            prob_arr = A*B / sum(A*B)\n",
    "            path_candidate = np.array(list(permutations(range(36),2)))\n",
    "            stores = list(range(36))\n",
    "            for j in range(len(data)-1):\n",
    "                ant = np.random.uniform(0, 1)\n",
    "                if j == (len(data) - 1):\n",
    "                    path_list.append(path_candidate[ant])\n",
    "                    distance_list.append(data.iloc[path_candidate[ant]])\n",
    "                    break\n",
    "\n",
    "                chosen = np.random.choice(range(len(path_candidate)), 1, p = prob_arr)\n",
    "                \n",
    "                path_list.append(tuple(path_candidate[chosen].flatten()))\n",
    "                distance_list.append(data.iloc[tuple(path_candidate[chosen].flatten())])\n",
    "                stores.remove(path_list[j][1])\n",
    "                if j == 0:\n",
    "                    stores.remove(path_list[j][0])\n",
    "                path_candidate = np.array([(path_list[j][1], k) for k in stores])\n",
    "                A = np.array([pheromone[tuple(i)] for i in path_candidate]) ** alpha\n",
    "                B = (1 / np.array([data.iloc[tuple(i)] for i in path_candidate])) ** beta\n",
    "                prob_arr = A*B / sum(A*B)\n",
    "            if sum(distance_list) < distance_best:\n",
    "                state_best = list(data.columns[np.array([path_list[i][1] if i != -1 else path_list[0][0] for i in range(-1, len(path_list))])])\n",
    "                distance_best = np.around(sum(distance_list), 2)\n",
    "            all_path.extend(path_list)\n",
    "            all_distance.extend(distance_list)\n",
    "        distances.extend([distance_best])\n",
    "        pheromone = update_pheromone(pheromone, all_path, all_distance)\n",
    "    return state_best, distances"
   ]
  },
  {
   "cell_type": "code",
   "execution_count": 696,
   "metadata": {
    "scrolled": true
   },
   "outputs": [
    {
     "name": "stdout",
     "output_type": "stream",
     "text": [
      "0\n",
      "1\n",
      "2\n",
      "3\n",
      "4\n",
      "5\n",
      "6\n",
      "7\n",
      "8\n",
      "9\n",
      "10\n",
      "11\n",
      "12\n",
      "13\n",
      "14\n",
      "15\n",
      "16\n",
      "17\n",
      "18\n",
      "19\n",
      "20\n",
      "21\n",
      "22\n",
      "23\n",
      "24\n",
      "25\n",
      "26\n",
      "27\n",
      "28\n",
      "29\n",
      "30\n",
      "31\n",
      "32\n",
      "33\n",
      "34\n",
      "35\n",
      "36\n",
      "37\n",
      "38\n",
      "39\n",
      "40\n",
      "41\n",
      "42\n",
      "43\n",
      "44\n",
      "45\n",
      "46\n",
      "47\n",
      "48\n",
      "49\n",
      "50\n",
      "51\n",
      "52\n",
      "53\n",
      "54\n",
      "55\n",
      "56\n",
      "57\n",
      "58\n",
      "59\n",
      "60\n",
      "61\n",
      "62\n",
      "63\n",
      "64\n",
      "65\n",
      "66\n",
      "67\n",
      "68\n",
      "69\n",
      "70\n",
      "71\n",
      "72\n",
      "73\n",
      "74\n",
      "75\n",
      "76\n",
      "77\n",
      "78\n",
      "79\n",
      "80\n",
      "81\n",
      "82\n",
      "83\n",
      "84\n",
      "85\n",
      "86\n",
      "87\n",
      "88\n",
      "89\n",
      "90\n",
      "91\n",
      "92\n",
      "93\n",
      "94\n",
      "95\n",
      "96\n",
      "97\n",
      "98\n",
      "99\n"
     ]
    }
   ],
   "source": [
    "state_best7, distances7 = ACO(data, n = 630, iterations = 100, alpha = 0.7, beta = 0.7)"
   ]
  },
  {
   "cell_type": "code",
   "execution_count": 697,
   "metadata": {},
   "outputs": [
    {
     "name": "stdout",
     "output_type": "stream",
     "text": [
      "The minimal distance by ACO way is 28.0 km.\n",
      "The best state of store names in order is ['港德', '聯坊', '新福玉', '中坡', '雄強', '忠陽', '昆陽', '聯成', '凱松', '港運', '玉德', '林坊', '鵬馳', '玉成', '向揚', '慈愛', '港興', '港環球', '佳樂', '港高鐵', '港泰', '港麗', '香城', '港捷', '鑫貿', '中貿', '馥樺', '經貿', '耀港', '中研', '庄研', '華技', '胡適', '研究', '港勝', '重陽']\n"
     ]
    },
    {
     "data": {
      "image/png": "[encoded data removed]",
      "text/plain": [
       "<Figure size 432x288 with 1 Axes>"
      ]
     },
     "metadata": {
      "needs_background": "light"
     },
     "output_type": "display_data"
    }
   ],
   "source": [
    "visualizing(state_best7, distances7, \"ACO\")"
   ]
  },
  {
   "cell_type": "markdown",
   "metadata": {},
   "source": [
    "## Nearest_Neighbour"
   ]
  },
  {
   "cell_type": "code",
   "execution_count": 427,
   "metadata": {},
   "outputs": [],
   "source": [
    "def Nearest_Neighbour():\n",
    "    state_best = []\n",
    "    distances = []\n",
    "    for i in range(36):\n",
    "        copy = data.copy()\n",
    "        for j in range(len(copy)):\n",
    "            copy.iloc[j, j] = np.inf\n",
    "        start = copy.columns[i]\n",
    "        path_list = [start]\n",
    "        distance_list = []\n",
    "        while len(path_list) <= 35:\n",
    "            loc = copy[start].argmin()\n",
    "            path_list.append(copy.columns[loc])  \n",
    "            distance_list.append(copy[start].min())\n",
    "            copy[start] = np.inf\n",
    "            copy.loc[start, :] = np.inf\n",
    "            start = copy.columns[loc]\n",
    "        if len(state_best) == 0 or sum(distance_list) < min(distances):\n",
    "            state_best = path_list\n",
    "            distance_best = sum(distance_list)\n",
    "        distances.append(distance_best)\n",
    "    return state_best, distances"
   ]
  },
  {
   "cell_type": "code",
   "execution_count": 428,
   "metadata": {},
   "outputs": [],
   "source": [
    "state_best8, distances8 = Nearest_Neighbour()"
   ]
  },
  {
   "cell_type": "code",
   "execution_count": 432,
   "metadata": {},
   "outputs": [
    {
     "name": "stdout",
     "output_type": "stream",
     "text": [
      "The minimal distance by Nearest_Neighbour way is 21.0 km.\n",
      "The best state of store names in order is ['忠陽', '昆陽', '聯成', '雄強', '林坊', '聯坊', '玉德', '中坡', '新福玉', '港德', '港運', '凱松', '鵬馳', '玉成', '向揚', '重陽', '慈愛', '港興', '佳樂', '港高鐵', '港泰', '港麗', '港環球', '香城', '經貿', '馥樺', '鑫貿', '中貿', '港勝', '耀港', '港捷', '研究', '胡適', '中研', '庄研', '華技']\n"
     ]
    },
    {
     "data": {
      "image/png": "[encoded data removed]",
      "text/plain": [
       "<Figure size 432x288 with 1 Axes>"
      ]
     },
     "metadata": {
      "needs_background": "light"
     },
     "output_type": "display_data"
    }
   ],
   "source": [
    "visualizing(state_best8, distances8, \"Nearest_Neighbour\")"
   ]
  },
  {
   "cell_type": "markdown",
   "metadata": {},
   "source": [
    "## Comparison"
   ]
  },
  {
   "cell_type": "code",
   "execution_count": 952,
   "metadata": {},
   "outputs": [
    {
     "data": {
      "image/png": "[encoded data removed]",
      "text/plain": [
       "<Figure size 576x432 with 1 Axes>"
      ]
     },
     "metadata": {
      "needs_background": "light"
     },
     "output_type": "display_data"
    }
   ],
   "source": [
    "plt.figure(figsize = (8, 6))\n",
    "plt.title(\"The Results of The 36 7-11 Stores in  Nangang by 7 methods\")\n",
    "plt.xlabel(\"iteration\")\n",
    "plt.ylabel(\"distance\")\n",
    "plt.plot(distances1, label = \"Hill_Climbing\")\n",
    "plt.plot(distances2, label = \"Random_Walk\")\n",
    "plt.plot(distances3, label = \"GA\")\n",
    "plt.plot(distances4, label = \"Simulated_Annealing\")\n",
    "plt.plot(distances5, label = \"Tabu_Search\")\n",
    "plt.plot(distances6, label = \"PSO\")\n",
    "plt.plot(distances7, label = \"ACO\")\n",
    "plt.legend()\n",
    "plt.show()"
   ]
  },
  {
   "cell_type": "code",
   "execution_count": 953,
   "metadata": {},
   "outputs": [
    {
     "data": {
      "image/png": "[encoded data removed]",
      "text/plain": [
       "<Figure size 576x432 with 1 Axes>"
      ]
     },
     "metadata": {
      "needs_background": "light"
     },
     "output_type": "display_data"
    }
   ],
   "source": [
    "plt.figure(figsize = (8, 6))\n",
    "plt.title(\"The Results of The 36 7-11 Stores in  Nangang by 8 methods\")\n",
    "plt.xlabel(\"iteration\")\n",
    "plt.ylabel(\"distance\")\n",
    "plt.plot(distances1, label = \"Hill_Climbing\")\n",
    "plt.plot(distances2, label = \"Random_Walk\")\n",
    "plt.plot(distances3, label = \"GA\")\n",
    "plt.plot(distances4, label = \"Simulated_Annealing\")\n",
    "plt.plot(distances5, label = \"Tabu_Search\")\n",
    "plt.plot(distances6, label = \"PSO\")\n",
    "plt.plot(distances7, label = \"ACO\")\n",
    "plt.plot(distances8, label = \"Nearest_Neighbour\")\n",
    "plt.legend()\n",
    "plt.show()"
   ]
  },
  {
   "cell_type": "code",
   "execution_count": null,
   "metadata": {},
   "outputs": [],
   "source": []
  }
 ],
 "metadata": {
  "kernelspec": {
   "display_name": "Python 3",
   "language": "python",
   "name": "python3"
  },
  "language_info": {
   "codemirror_mode": {
    "name": "ipython",
    "version": 3
   },
   "file_extension": ".py",
   "mimetype": "text/x-python",
   "name": "python",
   "nbconvert_exporter": "python",
   "pygments_lexer": "ipython3",
   "version": "3.8.5"
  }
 },
 "nbformat": 4,
 "nbformat_minor": 4
}
